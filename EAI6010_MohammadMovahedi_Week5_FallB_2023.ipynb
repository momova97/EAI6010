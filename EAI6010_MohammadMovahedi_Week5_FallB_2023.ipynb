{
  "nbformat": 4,
  "nbformat_minor": 0,
  "metadata": {
    "colab": {
      "provenance": [],
      "gpuType": "T4",
      "authorship_tag": "ABX9TyNsTenMV3PAHfqFIyUBv5yc",
      "include_colab_link": true
    },
    "kernelspec": {
      "name": "python3",
      "display_name": "Python 3"
    },
    "language_info": {
      "name": "python"
    }
  },
  "cells": [
    {
      "cell_type": "markdown",
      "metadata": {
        "id": "view-in-github",
        "colab_type": "text"
      },
      "source": [
        "<a href=\"https://colab.research.google.com/github/momova97/EAI6010/blob/main/EAI6010_MohammadMovahedi_Week5_FallB_2023.ipynb\" target=\"_parent\"><img src=\"https://colab.research.google.com/assets/colab-badge.svg\" alt=\"Open In Colab\"/></a>"
      ]
    },
    {
      "cell_type": "code",
      "execution_count": null,
      "metadata": {
        "id": "1aPJcWZ2oicx"
      },
      "outputs": [],
      "source": []
    },
    {
      "cell_type": "markdown",
      "source": [
        "<center>\n",
        "<div style=\"font-family: 'Times New Roman', serif; text-align: center; margin: auto;\">\n",
        "  <img src=\"https://image-tc.galaxy.tf/wipng-3jcsiz4vzvffnpa7dfizxcdbp/northeastern-university.png\" alt=\"Northeastern University Logo\" style=\"width: 200px; margin-bottom: 1em;\">\n",
        "  <h1 style=\"font-size: 2.5em; margin-bottom: 0.5em;\">Assignment 5</h1>\n",
        "  <h2 style=\"font-size: 1.5em; margin-bottom: 0.3em;\">EAI6010  - Applications of Artificial Intelligence</h2>\n",
        "  <h2 style=\"font-size: 1.5em; margin-bottom: 0.3em;\">Mohammad Hossein Movahedi</h2>\n",
        "  <h3 style=\"font-size: 1.2em; margin-bottom: 0.3em; font-style: italic;\">Lecturer: Prof. Vladimir Shapiro</h3>\n",
        "  <h3 style=\"font-size: 1em; margin-top: 2em; font-weight: bold; text-align: center;\">Fall 2023</h3>\n",
        "</div>\n",
        "</center>"
      ],
      "metadata": {
        "id": "OXAnRhmWojKX"
      }
    },
    {
      "cell_type": "markdown",
      "source": [
        "# introduction\n",
        "The wavefront planner is a search algorithm used in robot navigation for pathfinding in a domain with obstacles. It is a simple yet effective method, often used in robotics due to its ease of implementation and understanding. This algorithm starts at the goal and spreads outwards, marking each cell with a number representing the distance to the goal. It is a versatile tool that can be adjusted to different connectivity levels, making it a valuable asset in various robotic applications."
      ],
      "metadata": {
        "id": "R8R4-BB_ooKT"
      }
    },
    {
      "cell_type": "markdown",
      "source": [
        "# Analysis\n",
        "The analysis section of this assignment is dedicated to evaluating the performance of the wavefront planner algorithm. This algorithm is designed to find the shortest path from a start point to a goal point in a grid with obstacles. The algorithm will be tested with different configurations of the grid, including varying the density of obstacles and the positions of the start and goal points. The performance of the algorithm will be evaluated based on its ability to find the correct path and the efficiency of its search. The results of this analysis will provide valuable insights into the strengths and weaknesses of the wavefront planner algorithm, and how it can be improved for more complex or different scenarios."
      ],
      "metadata": {
        "id": "WWXIAiAgpzG4"
      }
    },
    {
      "cell_type": "markdown",
      "source": [
        "## Step 1\n",
        "Using Python, create a script to find the shortest path from point S (start) to point G (goal) through a\n",
        "discretized workspace (6 rows by 12 columns) such as this (“.” designates a cell of free space, “X” represents a\n",
        "cell fully occupied by an obstacle). Use 4-connectivity.\n",
        "\n",
        "------\n",
        "This code implements a breadth-first search algorithm to find the shortest path in a grid from a start point to a goal. It iterates through each cell, ignoring walls, and updates the distance from the start point, always choosing the shortest path. The process continues until the goal is reached."
      ],
      "metadata": {
        "id": "ZNDyX7xhqUm0"
      }
    },
    {
      "cell_type": "code",
      "source": [
        "import numpy as np\n",
        "\n",
        "# Define the grid\n",
        "grid = [\n",
        "    [\"S\", \".\", \".\", \".\", \".\", \".\", \".\", \".\", \".\", \".\", \".\", \".\"],\n",
        "    [\".\", \".\", \".\", \".\", \".\", \".\", \".\", \".\", \".\", \".\", \".\", \".\"],\n",
        "    [\".\", \".\", \".\", \"X\", \"X\", \"X\", \"X\", \"X\", \"X\", \".\", \".\", \".\"],\n",
        "    [\".\", \".\", \".\", \"X\", \"X\", \"X\", \"X\", \"X\", \"X\", \".\", \".\", \".\"],\n",
        "    [\".\", \".\", \".\", \".\", \".\", \".\", \".\", \".\", \".\", \".\", \".\", \".\"],\n",
        "    [\".\", \".\", \".\", \".\", \".\", \".\", \".\", \".\", \".\", \".\", \".\", \"G\"]\n",
        "]\n",
        "\n",
        "# Convert the grid to a numpy array for easier manipulation\n",
        "grid = np.array(grid)\n",
        "\n",
        "# Define the start and goal points\n",
        "start = (0, 0)\n",
        "goal = (5, 11)\n",
        "\n",
        "# Define the directions for 4-connectivity: north, south, east, west\n",
        "directions = [(0, -1), (0, 1), (-1, 0), (1, 0)]\n",
        "\n",
        "# Initialize the nodes to visit with the start node\n",
        "nodes_to_visit = [start]\n",
        "\n",
        "# Initialize a matrix to keep track of distances\n",
        "distances = np.full(grid.shape, np.inf)\n",
        "distances[start] = 0\n",
        "\n",
        "# While there are nodes to visit\n",
        "while nodes_to_visit:\n",
        "    # Get the current node\n",
        "    current_node = nodes_to_visit.pop(0)\n",
        "\n",
        "    # If the current node is the goal, we're done\n",
        "    if current_node == goal:\n",
        "        break\n",
        "\n",
        "    # For each direction\n",
        "    for dx, dy in directions:\n",
        "        # Compute the coordinates of the neighbor\n",
        "        neighbor = (current_node[0] + dx, current_node[1] + dy)\n",
        "\n",
        "        # If the neighbor is within the grid\n",
        "        if (0 <= neighbor[0] < grid.shape[0]) and (0 <= neighbor[1] < grid.shape[1]):\n",
        "            # If the neighbor is a wall, ignore it\n",
        "            if grid[neighbor] == \"X\":\n",
        "                continue\n",
        "\n",
        "            # If the neighbor is a free space or the goal\n",
        "            if grid[neighbor] in [\".\", \"G\"]:\n",
        "                # If the distance to the start through the current node is shorter\n",
        "                if distances[current_node] + 1 < distances[neighbor]:\n",
        "                    # Update the distance to the start\n",
        "                    distances[neighbor] = distances[current_node] + 1\n",
        "\n",
        "                    # Add the neighbor to the nodes to visit\n",
        "                    nodes_to_visit.append(neighbor)\n",
        "\n",
        "# Print the distances\n",
        "print(distances)\n"
      ],
      "metadata": {
        "colab": {
          "base_uri": "https://localhost:8080/"
        },
        "id": "pvHdz94DrK_0",
        "outputId": "2c598320-9092-488d-b468-db667ef5a812"
      },
      "execution_count": 15,
      "outputs": [
        {
          "output_type": "stream",
          "name": "stdout",
          "text": [
            "[[ 0.  1.  2.  3.  4.  5.  6.  7.  8.  9. 10. 11.]\n",
            " [ 1.  2.  3.  4.  5.  6.  7.  8.  9. 10. 11. 12.]\n",
            " [ 2.  3.  4. inf inf inf inf inf inf 11. 12. 13.]\n",
            " [ 3.  4.  5. inf inf inf inf inf inf 12. 13. 14.]\n",
            " [ 4.  5.  6.  7.  8.  9. 10. 11. 12. 13. 14. 15.]\n",
            " [ 5.  6.  7.  8.  9. 10. 11. 12. 13. 14. 15. 16.]]\n"
          ]
        }
      ]
    },
    {
      "cell_type": "markdown",
      "source": [
        "## Step 2 - Find a way to visualize the calculated path, including the path length, with the final state of the wave expansion.\n",
        "\n",
        "----\n",
        "This code uses the matplotlib library to create a heatmap from a 2D array called 'distances'. The heatmap is displayed with a color map ('hot') and nearest-neighbor interpolation. The title of the heatmap is 'Heatmap of Distances'. A color bar is also added to the heatmap. The shortest path length and the final state of the wave expansion are then printed."
      ],
      "metadata": {
        "id": "F3uL-Ecz7aKF"
      }
    },
    {
      "cell_type": "code",
      "source": [
        "import matplotlib.pyplot as plt\n",
        "\n",
        "# Create a heatmap\n",
        "plt.imshow(distances, cmap='hot', interpolation='nearest')\n",
        "plt.title('Heatmap of Distances')\n",
        "plt.colorbar()\n",
        "plt.show()\n",
        "\n",
        "# print the shortest path length\n",
        "print(f'Shortest path length: {distances[goal]}')\n",
        "\n",
        "# print the final state of the wave expantion\n",
        "print(distances)"
      ],
      "metadata": {
        "colab": {
          "base_uri": "https://localhost:8080/",
          "height": 541
        },
        "id": "QvbWPVhr8ABi",
        "outputId": "c14cdb45-08d4-4f3c-9089-75b5540288e0"
      },
      "execution_count": 39,
      "outputs": [
        {
          "output_type": "display_data",
          "data": {
            "text/plain": [
              "<Figure size 640x480 with 2 Axes>"
            ],
            "image/png": "[encoded data removed]"
          },
          "metadata": {}
        },
        {
          "output_type": "stream",
          "name": "stdout",
          "text": [
            "Shortest path length: 16.0\n",
            "[[ 0.  1.  2.  3.  4.  5.  6.  7.  8.  9. 10. 11.]\n",
            " [ 1.  2.  3.  4.  5.  6.  7.  8.  9. 10. 11. 12.]\n",
            " [ 2.  3.  4. inf inf inf inf inf inf 11. 12. 13.]\n",
            " [ 3.  4.  5. inf inf inf inf inf inf 12. 13. 14.]\n",
            " [ 4.  5.  6.  7.  8.  9. 10. 11. 12. 13. 14. 15.]\n",
            " [ 5.  6.  7.  8.  9. 10. 11. 12. 13. 14. 15. 16.]]\n"
          ]
        }
      ]
    },
    {
      "cell_type": "markdown",
      "source": [
        "## Step 3 - Change to 8-connectivity, recalculate, visualize, and interpret the results"
      ],
      "metadata": {
        "id": "nmsWA394Bv18"
      }
    },
    {
      "cell_type": "code",
      "source": [
        "import numpy as np\n",
        "\n",
        "# Define the grid\n",
        "grid = [\n",
        "    [\"S\", \".\", \".\", \".\", \".\", \".\", \".\", \".\", \".\", \".\", \".\", \".\"],\n",
        "    [\".\", \".\", \".\", \".\", \".\", \".\", \".\", \".\", \".\", \".\", \".\", \".\"],\n",
        "    [\".\", \".\", \".\", \"X\", \"X\", \"X\", \"X\", \"X\", \"X\", \".\", \".\", \".\"],\n",
        "    [\".\", \".\", \".\", \"X\", \"X\", \"X\", \"X\", \"X\", \"X\", \".\", \".\", \".\"],\n",
        "    [\".\", \".\", \".\", \".\", \".\", \".\", \".\", \".\", \".\", \".\", \".\", \".\"],\n",
        "    [\".\", \".\", \".\", \".\", \".\", \".\", \".\", \".\", \".\", \".\", \".\", \"G\"]\n",
        "]\n",
        "\n",
        "# Convert the grid to a numpy array for easier manipulation\n",
        "grid = np.array(grid)\n",
        "\n",
        "# Define the start and goal points\n",
        "start = (0, 0)\n",
        "goal = (5, 11)\n",
        "\n",
        "# Define the directions for 8-connectivity: north, south, east, west, north-west, north-east, south-west, and south-east.\n",
        "directions = [(0, -1), (0, 1), (-1, 0), (1, 0), (-1, -1), (-1, 1), (1, -1), (1, 1)]\n",
        "\n",
        "# Initialize the nodes to visit with the start node\n",
        "nodes_to_visit = [start]\n",
        "\n",
        "# Initialize a matrix to keep track of distances\n",
        "distances = np.full(grid.shape, np.inf)\n",
        "distances[start] = 0\n",
        "\n",
        "# While there are nodes to visit\n",
        "while nodes_to_visit:\n",
        "    # Get the current node\n",
        "    current_node = nodes_to_visit.pop(0)\n",
        "\n",
        "    # If the current node is the goal, we're done\n",
        "    if current_node == goal:\n",
        "        break\n",
        "\n",
        "    # For each direction\n",
        "    for dx, dy in directions:\n",
        "        # Compute the coordinates of the neighbor\n",
        "        neighbor = (current_node[0] + dx, current_node[1] + dy)\n",
        "\n",
        "        # If the neighbor is within the grid\n",
        "        if (0 <= neighbor[0] < grid.shape[0]) and (0 <= neighbor[1] < grid.shape[1]):\n",
        "            # If the neighbor is a wall, ignore it\n",
        "            if grid[neighbor] == \"X\":\n",
        "                continue\n",
        "\n",
        "            # If the neighbor is a free space or the goal\n",
        "            if grid[neighbor] in [\".\", \"G\"]:\n",
        "                # If the distance to the start through the current node is shorter\n",
        "                if distances[current_node] + 1 < distances[neighbor]:\n",
        "                    # Update the distance to the start\n",
        "                    distances[neighbor] = distances[current_node] + 1\n",
        "\n",
        "                    # Add the neighbor to the nodes to visit\n",
        "                    nodes_to_visit.append(neighbor)\n",
        "\n",
        "# Print the distances\n",
        "print(distances)\n",
        "# print the shortest path length\n",
        "print(f'Shortest path length: {distances[goal]}')\n"
      ],
      "metadata": {
        "colab": {
          "base_uri": "https://localhost:8080/"
        },
        "id": "gTrFA3G9B2TC",
        "outputId": "447e99ac-07f4-4248-ebc8-1e47f982e32d"
      },
      "execution_count": 41,
      "outputs": [
        {
          "output_type": "stream",
          "name": "stdout",
          "text": [
            "[[ 0.  1.  2.  3.  4.  5.  6.  7.  8.  9. 10. 11.]\n",
            " [ 1.  1.  2.  3.  4.  5.  6.  7.  8.  9. 10. 11.]\n",
            " [ 2.  2.  2. inf inf inf inf inf inf  9. 10. 11.]\n",
            " [ 3.  3.  3. inf inf inf inf inf inf 10. 10. 11.]\n",
            " [ 4.  4.  4.  4.  5.  6.  7.  8.  9. 10. 11. 11.]\n",
            " [ 5.  5.  5.  5.  5.  6.  7.  8.  9. 10. 11. 12.]]\n",
            "Shortest path length: 12.0\n"
          ]
        }
      ]
    },
    {
      "cell_type": "markdown",
      "source": [
        "The difference in the shortest path length between 4-connectivity and 8-connectivity is due to the increased connectivity in the 8-connectivity grid.\n",
        "\n",
        "In a 4-connectivity grid, each cell can only move to its immediate neighbors (up, down, left, or right). This means that the shortest path from the start to the goal in a 4-connectivity grid is 16 steps.\n",
        "\n",
        "In an 8-connectivity grid, each cell can move to its diagonal neighbors as well. This means that the shortest path from the start to the goal in an 8-connectivity grid is 12 steps.\n",
        "\n",
        "The 8-connectivity grid allows for more direct paths to the goal, which is why the shortest path length is shorter. The algorithm finds this shorter path by considering all possible paths from the start to the goal and choosing the one with the smallest total distance."
      ],
      "metadata": {
        "id": "8yXS5MDxCyDn"
      }
    },
    {
      "cell_type": "markdown",
      "source": [
        "## Step 4 - Modify the code so that the coordinates of “S” and “G” are randomly generated\n",
        "(obviously, the locations of those cannot be in the obstacle area). Run this simulation in a loop. At the end of each simulation, display the path. For the sake of the exercise, repeat the loop just three times. Either connectivity (4 or 8) is acceptable. For simplicity, you can restrict randomly generated “S”s to the left half and “G”s to the right half."
      ],
      "metadata": {
        "id": "kr_wyUSKC20Y"
      }
    },
    {
      "cell_type": "code",
      "source": [
        "import numpy as np\n",
        "\n",
        "# Define the grid\n",
        "grid = [\n",
        "   [\".\", \".\", \".\", \".\", \".\", \".\", \".\", \".\", \".\", \".\", \".\", \".\"],\n",
        "   [\".\", \".\", \".\", \".\", \".\", \".\", \".\", \".\", \".\", \".\", \".\", \".\"],\n",
        "   [\".\", \".\", \".\", \"X\", \"X\", \"X\", \"X\", \"X\", \"X\", \".\", \".\", \".\"],\n",
        "   [\".\", \".\", \".\", \"X\", \"X\", \"X\", \"X\", \"X\", \"X\", \".\", \".\", \".\"],\n",
        "   [\".\", \".\", \".\", \".\", \".\", \".\", \".\", \".\", \".\", \".\", \".\", \".\"],\n",
        "   [\".\", \".\", \".\", \".\", \".\", \".\", \".\", \".\", \".\", \".\", \".\", \".\"]\n",
        "]\n",
        "\n",
        "# Convert the grid to a numpy array for easier manipulation\n",
        "grid = np.array(grid)\n",
        "\n",
        "# Define the directions for 4-connectivity: north, south, east, west\n",
        "directions = [(0, -1), (0, 1), (-1, 0), (1, 0)]\n",
        "\n",
        "# Run the algorithm 3 times\n",
        "for _ in range(3):\n",
        "   # randomize the start and goal\n",
        "   start = (np.random.randint(0, 6), np.random.randint(0, 5))\n",
        "   goal = (np.random.randint(0, 6), np.random.randint(6, 11))\n",
        "\n",
        "   # Initialize the nodes to visit with the start node\n",
        "   nodes_to_visit = [start]\n",
        "\n",
        "   # Initialize a matrix to keep track of distances\n",
        "   distances = np.full(grid.shape, np.inf)\n",
        "   distances[start] = 0\n",
        "\n",
        "   # Initialize a matrix to keep track of predecessors\n",
        "   predecessors = np.full(grid.shape, None)\n",
        "\n",
        "   # While there are nodes to visit\n",
        "   while nodes_to_visit:\n",
        "       # Get the current node\n",
        "       current_node = nodes_to_visit.pop(0)\n",
        "\n",
        "       # If the current node is the goal, we're done\n",
        "       if current_node == goal:\n",
        "           break\n",
        "\n",
        "       # For each direction\n",
        "       for dx, dy in directions:\n",
        "           # Compute the coordinates of the neighbor\n",
        "           neighbor = (current_node[0] + dx, current_node[1] + dy)\n",
        "\n",
        "           # If the neighbor is within the grid\n",
        "           if (0 <= neighbor[0] < grid.shape[0]) and (0 <= neighbor[1] < grid.shape[1]):\n",
        "               # If the neighbor is a wall, ignore it\n",
        "               if grid[neighbor] == \"X\":\n",
        "                  continue\n",
        "\n",
        "               # If the neighbor is a free space or the goal\n",
        "               if grid[neighbor] in [\".\", \"G\"]:\n",
        "                  # If the distance to the start through the current node is shorter\n",
        "                  if distances[current_node] + 1 < distances[neighbor]:\n",
        "                      # Update the distance to the start\n",
        "                      distances[neighbor] = distances[current_node] + 1\n",
        "\n",
        "                      # Update the predecessor of the neighbor\n",
        "                      predecessors[neighbor] = current_node\n",
        "\n",
        "                      # Add the neighbor to the nodes to visit\n",
        "                      nodes_to_visit.append(neighbor)\n",
        "\n",
        "   # Print the distances\n",
        "   print(\"Distances:\")\n",
        "   print(distances)\n",
        "   # print start and goal\n",
        "   print(f'Start: {start}')\n",
        "   print(f'Goal: {goal}')\n",
        "\n",
        "   # Print the shortest path\n",
        "   print(\"Shortest path:\")\n",
        "   path = []\n",
        "   current_node = goal\n",
        "   while current_node is not None:\n",
        "       path.append(current_node)\n",
        "       current_node = predecessors[current_node]\n",
        "   path.reverse()\n",
        "   print(path)\n"
      ],
      "metadata": {
        "colab": {
          "base_uri": "https://localhost:8080/"
        },
        "id": "k3Gs-q4QDJJQ",
        "outputId": "e14fff4f-b0b9-494d-f6cf-a790d8effa98"
      },
      "execution_count": 47,
      "outputs": [
        {
          "output_type": "stream",
          "name": "stdout",
          "text": [
            "Distances:\n",
            "[[ 1.  2.  3.  4.  5.  6.  7.  8.  9. 10. 11. 12.]\n",
            " [ 0.  1.  2.  3.  4.  5.  6.  7.  8.  9. 10. 11.]\n",
            " [ 1.  2.  3. inf inf inf inf inf inf 10. 11. 12.]\n",
            " [ 2.  3.  4. inf inf inf inf inf inf 11. 12. inf]\n",
            " [ 3.  4.  5.  6.  7.  8.  9. 10. 11. 12. inf inf]\n",
            " [ 4.  5.  6.  7.  8.  9. 10. 11. inf inf inf inf]]\n",
            "Start: (1, 0)\n",
            "Goal: (4, 8)\n",
            "Shortest path:\n",
            "[(1, 0), (1, 1), (1, 2), (2, 2), (3, 2), (4, 2), (4, 3), (4, 4), (4, 5), (4, 6), (4, 7), (4, 8)]\n",
            "Distances:\n",
            "[[ 6.  5.  4.  5.  6.  7.  8.  9. 10. 11. 12. 13.]\n",
            " [ 5.  4.  3.  4.  5.  6.  7.  8.  9. 10. 11. 12.]\n",
            " [ 4.  3.  2. inf inf inf inf inf inf  9. 10. 11.]\n",
            " [ 3.  2.  1.  0. inf inf inf inf inf  8.  9. 10.]\n",
            " [ 4.  3.  2.  1.  2.  3.  4.  5.  6.  7.  8.  9.]\n",
            " [ 5.  4.  3.  2.  3.  4.  5.  6.  7.  8.  9. 10.]]\n",
            "Start: (3, 3)\n",
            "Goal: (0, 10)\n",
            "Shortest path:\n",
            "[(3, 3), (3, 2), (2, 2), (1, 2), (1, 3), (1, 4), (1, 5), (1, 6), (1, 7), (1, 8), (1, 9), (1, 10), (0, 10)]\n",
            "Distances:\n",
            "[[ 3.  4.  5.  6.  7.  8. inf inf inf inf inf inf]\n",
            " [ 2.  3.  4.  5.  6.  7.  8. inf inf inf inf inf]\n",
            " [ 1.  2.  3. inf inf inf inf inf inf inf inf inf]\n",
            " [ 0.  1.  2. inf inf inf inf inf inf inf inf inf]\n",
            " [ 1.  2.  3.  4.  5.  6.  7. inf inf inf inf inf]\n",
            " [ 2.  3.  4.  5.  6.  7. inf inf inf inf inf inf]]\n",
            "Start: (3, 0)\n",
            "Goal: (4, 6)\n",
            "Shortest path:\n",
            "[(3, 0), (3, 1), (3, 2), (4, 2), (4, 3), (4, 4), (4, 5), (4, 6)]\n"
          ]
        }
      ]
    },
    {
      "cell_type": "markdown",
      "source": [
        "\n",
        "Three distance matrices represent paths from different starting points to respective goals. The shortest paths for each case are visually outlined in coordinate sequences. Notably, the distances are effectively calculated, and the paths reveal the optimal routes from start to goal for each scenario."
      ],
      "metadata": {
        "id": "tv3va57VE_Jt"
      }
    },
    {
      "cell_type": "markdown",
      "source": [
        "# Step 5 - Reflect on the results (conclusion)"
      ],
      "metadata": {
        "id": "yoSQCOaVFzSl"
      }
    },
    {
      "cell_type": "markdown",
      "source": [
        "\n",
        "In conclusion, the project successfully implemented and analyzed the wavefront planner algorithm for pathfinding in a grid with obstacles. The algorithm demonstrated effective computation of shortest paths in various scenarios, as evidenced by the obtained distance matrices and visualized optimal routes. Additionally, the adaptation to 4 and 8-connectivity grids showcased its versatility. The randomized simulations further emphasized the algorithm's robustness in dynamic environments, producing accurate paths from randomly generated start to goal points. These results underscore the algorithm's potential for real-world applications in robotics, providing a reliable and adaptable solution for navigating complex terrains."
      ],
      "metadata": {
        "id": "45VWppDlF51p"
      }
    },
    {
      "cell_type": "markdown",
      "source": [
        "# References\n",
        "Societyofrobots.com. (2014). How to Build a Robot Tutorials - Society of Robots. [online] Available at: https://www.societyofrobots.com/programming_wavefront.shtml [Accessed 10 Dec. 2023].\n",
        "\n",
        "‌"
      ],
      "metadata": {
        "id": "7tN34rEaGX0K"
      }
    }
  ]
}